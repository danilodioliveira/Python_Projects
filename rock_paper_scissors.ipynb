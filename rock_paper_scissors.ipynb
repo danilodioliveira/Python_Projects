{
  "nbformat": 4,
  "nbformat_minor": 0,
  "metadata": {
    "colab": {
      "name": "rock_paper_scissors.ipynb",
      "provenance": [],
      "authorship_tag": "ABX9TyPWQhdAFCnuz8J3M+JpnAHt",
      "include_colab_link": true
    },
    "kernelspec": {
      "name": "python3",
      "display_name": "Python 3"
    }
  },
  "cells": [
    {
      "cell_type": "markdown",
      "metadata": {
        "id": "view-in-github",
        "colab_type": "text"
      },
      "source": [
        "<a href=\"https://colab.research.google.com/github/danilodioliveira/Python_Projects/blob/main/rock_paper_scissors.ipynb\" target=\"_parent\"><img src=\"https://colab.research.google.com/assets/colab-badge.svg\" alt=\"Open In Colab\"/></a>"
      ]
    },
    {
      "cell_type": "code",
      "metadata": {
        "colab": {
          "base_uri": "https://localhost:8080/",
          "height": 181
        },
        "id": "mKS-Vpmbj1iy",
        "outputId": "47437518-fed5-40be-9de0-cadb509a1803"
      },
      "source": [
        "import random\r\n",
        "\r\n",
        "def play():\r\n",
        "  user = input(\"  'r' for rock, 'p', for paper, 's' for scissors\\n\")\r\n",
        "  computer = random.choice(['r', 'p', 's'])\r\n",
        "\r\n",
        "  print(f'Player: {user} and Computer: {computer}')\r\n",
        "\r\n",
        "  if user == computer:\r\n",
        "    print('It\\'s a tie')\r\n",
        "    play()\r\n",
        "\r\n",
        "  if is_win(user, computer):\r\n",
        "    return 'You won!'\r\n",
        "\r\n",
        "  return 'You lost!'\r\n",
        "\r\n",
        "def is_win( player, opponent):\r\n",
        "  if (player == 'r' and opponent == 's') or (player == 's' and opponent == 'p') or (player == 'p' and opponent == 'r'):\r\n",
        "    return True\r\n",
        "\r\n",
        "\r\n",
        "print('Hi! let\\'s play Rock Paper and Scissors')\r\n",
        "play()"
      ],
      "execution_count": 6,
      "outputs": [
        {
          "output_type": "stream",
          "text": [
            "Hi! let's play Rock Paper and Scissors\n",
            "  'r' for rock, 'p', for paper, 's' for scissors\n",
            "r\n",
            "Player: r and Computer: r\n",
            "It's a tie\n",
            "  'r' for rock, 'p', for paper, 's' for scissors\n",
            "p\n",
            "Player: p and Computer: r\n"
          ],
          "name": "stdout"
        },
        {
          "output_type": "execute_result",
          "data": {
            "application/vnd.google.colaboratory.intrinsic+json": {
              "type": "string"
            },
            "text/plain": [
              "'You lost!'"
            ]
          },
          "metadata": {
            "tags": []
          },
          "execution_count": 6
        }
      ]
    },
    {
      "cell_type": "code",
      "metadata": {
        "id": "pk5ASR-VzSes"
      },
      "source": [
        ""
      ],
      "execution_count": null,
      "outputs": []
    }
  ]
}