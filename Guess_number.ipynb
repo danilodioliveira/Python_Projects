{
  "nbformat": 4,
  "nbformat_minor": 0,
  "metadata": {
    "colab": {
      "name": "Guess_number.ipynb",
      "provenance": [],
      "authorship_tag": "ABX9TyOfFVv3F9JrsBWjPRmj8Qbm",
      "include_colab_link": true
    },
    "kernelspec": {
      "name": "python3",
      "display_name": "Python 3"
    }
  },
  "cells": [
    {
      "cell_type": "markdown",
      "metadata": {
        "id": "view-in-github",
        "colab_type": "text"
      },
      "source": [
        "<a href=\"https://colab.research.google.com/github/danilodioliveira/Python_Projects/blob/main/Guess_number.ipynb\" target=\"_parent\"><img src=\"https://colab.research.google.com/assets/colab-badge.svg\" alt=\"Open In Colab\"/></a>"
      ]
    },
    {
      "cell_type": "code",
      "metadata": {
        "id": "peZyBZdcThOD"
      },
      "source": [
        "import random\r\n",
        "\r\n",
        "def guess():\r\n",
        "  random_number = random.randint( 1, 100)\r\n",
        "  guess = 0\r\n",
        "  while guess != random_number:\r\n",
        "    guess = int(input('Guess a number between 1 and 100: ') )\r\n",
        "    if guess < random_number:\r\n",
        "      print('Sorry, guess again. Too low.\\n')\r\n",
        "    elif guess > random_number:\r\n",
        "      print('Sorry, guess again. Too high.\\n')\r\n",
        "  \r\n",
        "  print(f' Congrats. You have guessed the number {random_number} correctly!!!!') \r\n",
        "\r\n",
        "name = input('Hello, what is ur name?\\n') \r\n",
        "print(f'Hi {name} how u doing?\\n' )\r\n",
        "print('so, let´s play a game! try to guess the number i´m thinking\\n')\r\n",
        "guess()"
      ],
      "execution_count": null,
      "outputs": []
    }
  ]
}