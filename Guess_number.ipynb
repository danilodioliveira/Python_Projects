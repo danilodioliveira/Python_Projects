{
  "nbformat": 4,
  "nbformat_minor": 0,
  "metadata": {
    "colab": {
      "name": "Guess_number.ipynb",
      "provenance": [],
      "authorship_tag": "ABX9TyMyIJ6oBST0UVv6iUQ1DAHx",
      "include_colab_link": true
    },
    "kernelspec": {
      "name": "python3",
      "display_name": "Python 3"
    }
  },
  "cells": [
    {
      "cell_type": "markdown",
      "metadata": {
        "id": "view-in-github",
        "colab_type": "text"
      },
      "source": [
        "<a href=\"https://colab.research.google.com/github/danilodioliveira/Python_Projects/blob/main/Guess_number.ipynb\" target=\"_parent\"><img src=\"https://colab.research.google.com/assets/colab-badge.svg\" alt=\"Open In Colab\"/></a>"
      ]
    },
    {
      "cell_type": "code",
      "metadata": {
        "id": "peZyBZdcThOD",
        "colab": {
          "base_uri": "https://localhost:8080/"
        },
        "outputId": "7ebad67f-5d40-496c-e926-5c937fa732ec"
      },
      "source": [
        "import random\r\n",
        "\r\n",
        "player = 0\r\n",
        "def guess():\r\n",
        "  random_number = random.randint( 1, 100)\r\n",
        "  guess = 0\r\n",
        "  while guess != random_number:\r\n",
        "    guess = int(input('Guess a number between 1 and 100: ') )\r\n",
        "    if guess < random_number:\r\n",
        "      print('Sorry, guess again. Too low.\\n')\r\n",
        "    elif guess > random_number:\r\n",
        "      print('Sorry, guess again. Too high.\\n')\r\n",
        "  \r\n",
        "  print(f' Congrats. You have guessed the number {random_number} correctly!!!!') \r\n",
        "\r\n",
        "def computer_guess():\r\n",
        "  low = 1\r\n",
        "  high = 100\r\n",
        "  feedback = ''\r\n",
        "  while feedback != 'c':\r\n",
        "    if low != high:\r\n",
        "      guess = random.randint(low, high)\r\n",
        "    else:\r\n",
        "      guess = low\r\n",
        "\r\n",
        "    feedback = input(f'Is {guess} too high (H), too low (L), or correct (C)? \\n').lower()\r\n",
        "    if feedback == 'h':\r\n",
        "      high = guess-1\r\n",
        "    elif feedback == 'l':\r\n",
        "      low = guess +1\r\n",
        "  \r\n",
        "  print(f'The computer guessed your number, {guess}, correctly!\\n\\n')\r\n",
        "\r\n",
        "def choose_player():\r\n",
        "  player = int(input('Type 1 if u wanna guess or 2 if u wanna me to guess it! ') )\r\n",
        "  if player == 1:\r\n",
        "    guess()\r\n",
        "  elif player == 2:\r\n",
        "    computer_guess()\r\n",
        "  elif player >2 or player < 1:\r\n",
        "    print('uhhh i guess something went wrong xD ')\r\n",
        "\r\n",
        "name = input('Hello, what is ur name?') \r\n",
        "print(f'Hi {name} hope u doing good!' )\r\n",
        "print('so, this is a guessing game, the player needs to guess the correct number between 0 and 100')\r\n",
        "choose_player()\r\n",
        "\r\n",
        "print('\\n\\n1 - Yes =D , 2 - No =(')\r\n",
        "another_one = int( input( 'Up for another one??') )\r\n",
        "\r\n",
        "if another_one == 1:\r\n",
        "  choose_player()\r\n",
        "elif another_one == 2:\r\n",
        "  print('\\nHope to see u again!!! bye!!')\r\n",
        "elif another_one < 0 or another_one > 2:\r\n",
        "  print('uhhh i guess something went wrong xD ')"
      ],
      "execution_count": 20,
      "outputs": [
        {
          "output_type": "stream",
          "text": [
            "Hello, what is ur name?D\n",
            "Hi D hope u doing good!\n",
            "so, this is a guessing game, the player needs to guess the correct number between 0 and 100\n",
            "Type 1 if u wanna guess or 2 if u wanna me to guess it! 1\n",
            "Guess a number between 1 and 100: 50\n",
            "Sorry, guess again. Too low.\n",
            "\n",
            "Guess a number between 1 and 100: 70\n",
            "Sorry, guess again. Too high.\n",
            "\n",
            "Guess a number between 1 and 100: 60\n",
            "Sorry, guess again. Too high.\n",
            "\n",
            "Guess a number between 1 and 100: 55\n",
            "Sorry, guess again. Too high.\n",
            "\n",
            "Guess a number between 1 and 100: 53\n",
            " Congrats. You have guessed the number 53 correctly!!!!\n",
            "1 - Yes =D , 2 - No =(\n",
            "\n",
            " Up for another one??1\n",
            "Type 1 if u wanna guess or 2 if u wanna me to guess it! 2\n",
            "Is 98 too high (H), too low (L), or correct (C)? \n",
            "h\n",
            "Is 79 too high (H), too low (L), or correct (C)? \n",
            "h\n",
            "Is 13 too high (H), too low (L), or correct (C)? \n",
            "l\n",
            "Is 53 too high (H), too low (L), or correct (C)? \n",
            "l\n",
            "Is 71 too high (H), too low (L), or correct (C)? \n",
            "l\n",
            "Is 73 too high (H), too low (L), or correct (C)? \n",
            "l\n",
            "Is 77 too high (H), too low (L), or correct (C)? \n",
            "h\n",
            "Is 76 too high (H), too low (L), or correct (C)? \n",
            "h\n",
            "Is 74 too high (H), too low (L), or correct (C)? \n",
            "c\n",
            "The computer guessed your number, 74, correctly!\n",
            "\n",
            "\n"
          ],
          "name": "stdout"
        }
      ]
    },
    {
      "cell_type": "code",
      "metadata": {
        "id": "Lx0bIQePeEGh"
      },
      "source": [
        ""
      ],
      "execution_count": null,
      "outputs": []
    }
  ]
}